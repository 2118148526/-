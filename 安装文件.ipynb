{
 "cells": [
  {
   "cell_type": "code",
   "execution_count": null,
   "id": "e4827af9",
   "metadata": {},
   "outputs": [],
   "source": [
    "!nvidia-smi"
   ]
  },
  {
   "cell_type": "code",
   "execution_count": null,
   "id": "320e585c",
   "metadata": {},
   "outputs": [],
   "source": [
    "!git clone https://github.com/svc-develop-team/so-vits-svc"
   ]
  },
  {
   "cell_type": "code",
   "execution_count": null,
   "id": "d9f669e8",
   "metadata": {},
   "outputs": [],
   "source": [
    "pip install --upgrade pip setuptools numpy numba"
   ]
  },
  {
   "cell_type": "code",
   "execution_count": null,
   "id": "4d99cc47",
   "metadata": {},
   "outputs": [],
   "source": [
    "pip install pyworld praat-parselmouth fairseq tensorboardX torchcrepe librosa==0.9.1"
   ]
  },
  {
   "cell_type": "code",
   "execution_count": null,
   "id": "f0c38aef",
   "metadata": {},
   "outputs": [],
   "source": [
    "! wget https://huggingface.co/lin-df4g/2.1.3/resolve/main/torch-1.13.1%2Bcu117-cp37-cp37m-linux_x86_64.whl"
   ]
  },
  {
   "cell_type": "code",
   "execution_count": null,
   "id": "7d69f3be",
   "metadata": {},
   "outputs": [],
   "source": [
    "!pip install torch-1.13.1+cu117-cp37-cp37m-linux_x86_64.whl"
   ]
  },
  {
   "cell_type": "code",
   "execution_count": null,
   "id": "70266988",
   "metadata": {},
   "outputs": [],
   "source": [
    "pip install torch==1.13.1+cu117 torchvision==0.14.1+cu117 torchaudio==0.13.1+cu117 --extra-index-url https://download.pytorch.org/whl/cu117"
   ]
  },
  {
   "cell_type": "code",
   "execution_count": null,
   "id": "a3b38a90",
   "metadata": {},
   "outputs": [],
   "source": [
    "pip install Flask==2.1.2"
   ]
  },
  {
   "cell_type": "code",
   "execution_count": null,
   "id": "5aacc60b",
   "metadata": {},
   "outputs": [],
   "source": [
    "pip install Flask_Cors==3.0.10"
   ]
  },
  {
   "cell_type": "code",
   "execution_count": null,
   "id": "4e4c39dc",
   "metadata": {},
   "outputs": [],
   "source": [
    "pip install gradio==3.4.1"
   ]
  },
  {
   "cell_type": "code",
   "execution_count": null,
   "id": "c0207c8a",
   "metadata": {},
   "outputs": [],
   "source": [
    "pip install numpy==1.23.0"
   ]
  },
  {
   "cell_type": "code",
   "execution_count": null,
   "id": "420d22c0",
   "metadata": {},
   "outputs": [],
   "source": [
    "pip install playsound==1.3.0"
   ]
  },
  {
   "cell_type": "code",
   "execution_count": null,
   "id": "1732b6f2",
   "metadata": {},
   "outputs": [],
   "source": [
    "pip install playsound==1.3.0"
   ]
  },
  {
   "cell_type": "code",
   "execution_count": null,
   "id": "cf43b2fa",
   "metadata": {},
   "outputs": [],
   "source": [
    "pip install pydub==0.25.1"
   ]
  },
  {
   "cell_type": "code",
   "execution_count": null,
   "id": "8ee71348",
   "metadata": {},
   "outputs": [],
   "source": [
    "pip install pyworld==0.3.0"
   ]
  },
  {
   "cell_type": "code",
   "execution_count": null,
   "id": "6713e666",
   "metadata": {},
   "outputs": [],
   "source": [
    "pip install requests==2.28.1"
   ]
  },
  {
   "cell_type": "code",
   "execution_count": null,
   "id": "d15467bd",
   "metadata": {},
   "outputs": [],
   "source": [
    "pip install scipy==1.7.3"
   ]
  },
  {
   "cell_type": "code",
   "execution_count": null,
   "id": "08f38408",
   "metadata": {},
   "outputs": [],
   "source": [
    "pip install sounddevice==0.4.5"
   ]
  },
  {
   "cell_type": "code",
   "execution_count": null,
   "id": "64e47921",
   "metadata": {},
   "outputs": [],
   "source": [
    "pip install SoundFile==0.10.3.post1"
   ]
  },
  {
   "cell_type": "code",
   "execution_count": null,
   "id": "1442ed3b",
   "metadata": {},
   "outputs": [],
   "source": [
    "pip install starlette==0.19.1"
   ]
  },
  {
   "cell_type": "code",
   "execution_count": null,
   "id": "e22736ab",
   "metadata": {},
   "outputs": [],
   "source": [
    "pip install tqdm==4.63.0"
   ]
  },
  {
   "cell_type": "code",
   "execution_count": null,
   "id": "f040cf44",
   "metadata": {},
   "outputs": [],
   "source": [
    "pip install scikit-maad"
   ]
  },
  {
   "cell_type": "code",
   "execution_count": null,
   "id": "68d87a27",
   "metadata": {},
   "outputs": [],
   "source": [
    "pip install praat-parselmouth==0.4.3"
   ]
  },
  {
   "cell_type": "code",
   "execution_count": null,
   "id": "4c3b70d3",
   "metadata": {},
   "outputs": [],
   "source": [
    "pip install tensorboard"
   ]
  },
  {
   "cell_type": "code",
   "execution_count": null,
   "id": "60b5a4de",
   "metadata": {},
   "outputs": [],
   "source": [
    "pip install librosa"
   ]
  },
  {
   "cell_type": "code",
   "execution_count": null,
   "id": "8242183d",
   "metadata": {},
   "outputs": [],
   "source": [
    "pip install praat-parselmouth"
   ]
  },
  {
   "cell_type": "code",
   "execution_count": null,
   "id": "469ff83c",
   "metadata": {},
   "outputs": [],
   "source": [
    "!apt-get install wget"
   ]
  },
  {
   "cell_type": "code",
   "execution_count": null,
   "id": "945397e4",
   "metadata": {},
   "outputs": [],
   "source": [
    "!apt install unzip"
   ]
  },
  {
   "cell_type": "code",
   "execution_count": null,
   "id": "55dbe571",
   "metadata": {},
   "outputs": [],
   "source": []
  }
 ],
 "metadata": {
  "kernelspec": {
   "display_name": "Python 3 (ipykernel)",
   "language": "python",
   "name": "python3"
  },
  "language_info": {
   "codemirror_mode": {
    "name": "ipython",
    "version": 3
   },
   "file_extension": ".py",
   "mimetype": "text/x-python",
   "name": "python",
   "nbconvert_exporter": "python",
   "pygments_lexer": "ipython3",
   "version": "3.7.11"
  }
 },
 "nbformat": 4,
 "nbformat_minor": 5
}
