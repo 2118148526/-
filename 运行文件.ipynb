{
 "cells": [
  {
   "cell_type": "code",
   "execution_count": null,
   "id": "0a6fb1d1",
   "metadata": {},
   "outputs": [],
   "source": [
    "! wget https://huggingface.co/lin-df4g/2.1.3/resolve/main/2-1-3sovits-g0d0.zip"
   ]
  },
  {
   "cell_type": "code",
   "execution_count": null,
   "id": "acf328f4",
   "metadata": {},
   "outputs": [],
   "source": [
    "! wget https://huggingface.co/lin-df4g/2.1.3/resolve/main/torch-1.13.1-cp37-cp37m-manylinux1_x86_64.whl"
   ]
  },
  {
   "cell_type": "code",
   "execution_count": null,
   "id": "ce789a81",
   "metadata": {},
   "outputs": [],
   "source": [
    "! wget https://huggingface.co/lin-df4g/2.1.3/resolve/main/nvidia_cublas_cu11-11.10.3.66-py3-none-manylinux1_x86_64.whl"
   ]
  },
  {
   "cell_type": "code",
   "execution_count": null,
   "id": "aac12b9a",
   "metadata": {},
   "outputs": [],
   "source": [
    "! wget https://huggingface.co/lin-df4g/2.1.3/resolve/main/nvidia_cudnn_cu11-8.5.0.96-2-py3-none-manylinux1_x86_64.whl"
   ]
  },
  {
   "cell_type": "code",
   "execution_count": null,
   "id": "a7fcd9bf",
   "metadata": {},
   "outputs": [],
   "source": [
    "!wget https://huggingface.co/lin-df4g/2.1.3/resolve/main/naxi.zip"
   ]
  },
  {
   "cell_type": "code",
   "execution_count": null,
   "id": "3eb2cef7",
   "metadata": {},
   "outputs": [],
   "source": [
    "cd /code"
   ]
  },
  {
   "cell_type": "code",
   "execution_count": null,
   "id": "64dcc691",
   "metadata": {},
   "outputs": [],
   "source": [
    "pip install nvidia_cublas_cu11-11.10.3.66-py3-none-manylinux1_x86_64.whl"
   ]
  },
  {
   "cell_type": "code",
   "execution_count": null,
   "id": "5559fd39",
   "metadata": {},
   "outputs": [],
   "source": [
    "pip install nvidia_cudnn_cu11-8.5.0.96-2-py3-none-manylinux1_x86_64.whl"
   ]
  },
  {
   "cell_type": "code",
   "execution_count": null,
   "id": "2ea74d82",
   "metadata": {},
   "outputs": [],
   "source": [
    "pip install torch-1.13.1-cp37-cp37m-manylinux1_x86_64.whl"
   ]
  },
  {
   "cell_type": "code",
   "execution_count": null,
   "id": "e6e3e285",
   "metadata": {},
   "outputs": [],
   "source": [
    "!unzip 2-1-3sovits-g0d0.zip"
   ]
  },
  {
   "cell_type": "code",
   "execution_count": 2,
   "id": "89206d00",
   "metadata": {},
   "outputs": [
    {
     "name": "stdout",
     "output_type": "stream",
     "text": [
      "/code/so-vits-svc\n"
     ]
    }
   ],
   "source": [
    "cd /code/so-vits-svc"
   ]
  },
  {
   "cell_type": "code",
   "execution_count": null,
   "id": "4310ae0d",
   "metadata": {},
   "outputs": [],
   "source": [
    "!python resample.py #重新采样"
   ]
  },
  {
   "cell_type": "code",
   "execution_count": null,
   "id": "12c8aabc",
   "metadata": {},
   "outputs": [],
   "source": [
    "!python preprocess_flist_config.py --speech_encoder vec768l12\n",
    "#speech_encoder拥有三个选择\n",
    "#vec768l12\n",
    "#vec256l9\n",
    "#hubertsoft\n",
    "#如果省略speech_encoder参数，默认值为vec768l12"
   ]
  },
  {
   "cell_type": "code",
   "execution_count": null,
   "id": "84deac08",
   "metadata": {},
   "outputs": [],
   "source": [
    "!python preprocess_hubert_f0.py --f0_predictor dio --use_diff\n",
    "#f0_predictor拥有四个选择\n",
    "#crepe\n",
    "#dio\n",
    "#pm\n",
    "#harvest\n",
    "#如果训练集过于嘈杂，请使用crepe处理f0\n",
    "#如果省略f0_predictor参数，默认值为dio"
   ]
  },
  {
   "cell_type": "code",
   "execution_count": null,
   "id": "d7019acc",
   "metadata": {},
   "outputs": [],
   "source": [
    "!python train_diff.py -c configs/diffusion.yaml #训练浅扩散模型"
   ]
  },
  {
   "cell_type": "code",
   "execution_count": null,
   "id": "38195566",
   "metadata": {},
   "outputs": [
    {
     "name": "stdout",
     "output_type": "stream",
     "text": [
      "INFO:44k:{'train': {'log_interval': 200, 'eval_interval': 800, 'seed': 1234, 'epochs': 10000, 'learning_rate': 0.0001, 'betas': [0.8, 0.99], 'eps': 1e-09, 'batch_size': 6, 'fp16_run': False, 'lr_decay': 0.999875, 'segment_size': 10240, 'init_lr_ratio': 1, 'warmup_epochs': 0, 'c_mel': 45, 'c_kl': 1.0, 'use_sr': True, 'max_speclen': 512, 'port': '8001', 'keep_ckpts': 3, 'all_in_mem': False}, 'data': {'training_files': 'filelists/train.txt', 'validation_files': 'filelists/val.txt', 'max_wav_value': 32768.0, 'sampling_rate': 44100, 'filter_length': 2048, 'hop_length': 512, 'win_length': 2048, 'n_mel_channels': 80, 'mel_fmin': 0.0, 'mel_fmax': 22050}, 'model': {'inter_channels': 192, 'hidden_channels': 192, 'filter_channels': 768, 'n_heads': 2, 'n_layers': 6, 'kernel_size': 3, 'p_dropout': 0.1, 'resblock': '1', 'resblock_kernel_sizes': [3, 7, 11], 'resblock_dilation_sizes': [[1, 3, 5], [1, 3, 5], [1, 3, 5]], 'upsample_rates': [8, 8, 2, 2, 2], 'upsample_initial_channel': 512, 'upsample_kernel_sizes': [16, 16, 4, 4, 4], 'n_layers_q': 3, 'use_spectral_norm': False, 'gin_channels': 768, 'ssl_dim': 768, 'n_speakers': 1, 'speech_encoder': 'vec768l12', 'speaker_embedding': False}, 'spk': {'新建文件夹 (2)': 0}, 'model_dir': './logs/44k'}\n",
      "./logs/44k/G_36800.pth\n",
      "load \n",
      "INFO:44k:Loaded checkpoint './logs/44k/G_36800.pth' (iteration 280)\n",
      "./logs/44k/D_36800.pth\n",
      "load \n",
      "INFO:44k:Loaded checkpoint './logs/44k/D_36800.pth' (iteration 280)\n",
      "./logs/44k/D_36800.pth\n",
      "INFO:44k:====> Epoch: 280, cost 232.68 s\n",
      "INFO:44k:Train Epoch: 281 [53%]\n",
      "INFO:44k:Losses: [2.6044039726257324, 2.0103278160095215, 4.939074516296387, 14.204347610473633, 0.521105170249939], step: 37000, lr: 9.642764287834605e-05, reference_loss: 24.279258728027344\n",
      "INFO:44k:====> Epoch: 281, cost 182.16 s\n",
      "INFO:44k:====> Epoch: 282, cost 169.83 s\n",
      "INFO:44k:Train Epoch: 283 [7%]\n",
      "INFO:44k:Losses: [2.4788899421691895, 2.413050413131714, 7.184631824493408, 15.739011764526367, 0.6003274321556091], step: 37200, lr: 9.640353747430838e-05, reference_loss: 28.415910720825195\n",
      "INFO:44k:====> Epoch: 283, cost 171.40 s\n",
      "INFO:44k:Train Epoch: 284 [61%]\n",
      "INFO:44k:Losses: [2.4826042652130127, 2.399864912033081, 6.472959041595459, 15.488207817077637, 0.5683536529541016], step: 37400, lr: 9.639148703212408e-05, reference_loss: 27.411989212036133\n",
      "INFO:44k:====> Epoch: 284, cost 170.84 s\n"
     ]
    }
   ],
   "source": [
    "!python train.py -c configs/config.json -m 44k  #训练主模型"
   ]
  },
  {
   "cell_type": "code",
   "execution_count": null,
   "id": "4b9a2e47",
   "metadata": {},
   "outputs": [],
   "source": [
    "!python cluster/train_cluster.py --gpu #训练聚类模型(用gpu)"
   ]
  },
  {
   "cell_type": "code",
   "execution_count": null,
   "id": "9c1c1db8",
   "metadata": {},
   "outputs": [],
   "source": [
    "!python inference_main.py -m \"logs/44k/G_32800.pth\" -c \"configs/config.json\" -s \"新建文件夹 (2)\" -n \"93.wav\" -t 0 -cm logs/44k/kmeans_10000.pt -cr 0.5 -shd -dm logs/44k/diffusion/model_4000.pt -dc logs/44k/diffusion/config.yaml"
   ]
  },
  {
   "cell_type": "code",
   "execution_count": null,
   "id": "d44e67e4",
   "metadata": {},
   "outputs": [],
   "source": [
    "pip install torchaudio"
   ]
  },
  {
   "cell_type": "code",
   "execution_count": null,
   "id": "b72a423a",
   "metadata": {},
   "outputs": [],
   "source": [
    "pip install praat-parselmouth"
   ]
  },
  {
   "cell_type": "code",
   "execution_count": null,
   "id": "c4ad0967",
   "metadata": {},
   "outputs": [],
   "source": [
    "pip install fairseq"
   ]
  },
  {
   "cell_type": "code",
   "execution_count": null,
   "id": "666322af",
   "metadata": {},
   "outputs": [],
   "source": [
    "!unzip 2-1-3sovits-g0d0.zip"
   ]
  },
  {
   "cell_type": "code",
   "execution_count": null,
   "id": "73128cf4",
   "metadata": {},
   "outputs": [],
   "source": [
    "!unzip naxi.zip -d /code/so-vits-svc/dataset_raw"
   ]
  },
  {
   "cell_type": "code",
   "execution_count": null,
   "id": "882f5ba8",
   "metadata": {},
   "outputs": [],
   "source": [
    "!wget https://huggingface.co/lin-df4g/2.1.3/resolve/main/93.wav"
   ]
  }
 ],
 "metadata": {
  "kernelspec": {
   "display_name": "Python 3 (ipykernel)",
   "language": "python",
   "name": "python3"
  },
  "language_info": {
   "codemirror_mode": {
    "name": "ipython",
    "version": 3
   },
   "file_extension": ".py",
   "mimetype": "text/x-python",
   "name": "python",
   "nbconvert_exporter": "python",
   "pygments_lexer": "ipython3",
   "version": "3.7.11"
  }
 },
 "nbformat": 4,
 "nbformat_minor": 5
}
